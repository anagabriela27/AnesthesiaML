{
 "cells": [
  {
   "cell_type": "code",
   "execution_count": 1,
   "metadata": {},
   "outputs": [],
   "source": [
    "import os\n",
    "import time\n",
    "from datetime import datetime\n",
    "\n",
    "import matplotlib.pyplot as plt\n",
    "\n",
    "from optuna.visualization import plot_param_importances, plot_optimization_history, plot_parallel_coordinate\n",
    "\n",
    "import joblib\n"
   ]
  },
  {
   "cell_type": "code",
   "execution_count": 2,
   "metadata": {},
   "outputs": [],
   "source": [
    "RESULTS_PATH = os.path.join(os.getcwd(), \"training_results\")"
   ]
  },
  {
   "cell_type": "code",
   "execution_count": 22,
   "metadata": {},
   "outputs": [],
   "source": [
    "study = joblib.load('study.pkl')\n",
    "model_trainer = joblib.load('model_trainer.pkl')"
   ]
  },
  {
   "cell_type": "code",
   "execution_count": 5,
   "metadata": {},
   "outputs": [
    {
     "name": "stdout",
     "output_type": "stream",
     "text": [
      "Best parameters: {'batch_size': 128, 'lstm_units': 61, 'dropout_rate': 0.12089782674538327, 'learning_rate': 0.0001, 'num_lstm_layers': 1}\n"
     ]
    }
   ],
   "source": [
    "best_params = study.best_trial.params\n",
    "print(\"Best parameters:\", best_params)"
   ]
  },
  {
   "cell_type": "code",
   "execution_count": 5,
   "metadata": {},
   "outputs": [
    {
     "name": "stdout",
     "output_type": "stream",
     "text": [
      "Trials completos: 8\n",
      "Trials podados (pruned): 17\n"
     ]
    }
   ],
   "source": [
    "import optuna\n",
    "complete_trials = [t for t in study.trials if t.state == optuna.trial.TrialState.COMPLETE]\n",
    "pruned_trials = [t for t in study.trials if t.state == optuna.trial.TrialState.PRUNED]\n",
    "\n",
    "print(f\"Trials completos: {len(complete_trials)}\")\n",
    "print(f\"Trials podados (pruned): {len(pruned_trials)}\")\n"
   ]
  },
  {
   "cell_type": "code",
   "execution_count": 19,
   "metadata": {},
   "outputs": [],
   "source": [
    "def plot_and_save(study,plot_func, name, saving_path=None):\n",
    "    \"\"\"\n",
    "    Generate and display a plot using the provided Optuna plotting function.\n",
    "    Optionally saves the plot to a PNG file.\n",
    "\n",
    "    Args:\n",
    "        plot_func (callable): Optuna plotting function (e.g., plot_param_importances).\n",
    "        name (str): Name to use for the saved plot file.\n",
    "        saving_path (str or None): If provided, saves the plot to this directory.\n",
    "    \"\"\"\n",
    "    import matplotlib.pyplot as plt\n",
    "    \n",
    "    try:\n",
    "        fig = plot_func(study)\n",
    "        fig.show()\n",
    "\n",
    "        # Save figure if a path is provided\n",
    "        if saving_path:\n",
    "            os.makedirs(saving_path, exist_ok=True)\n",
    "            fig_path = os.path.join(saving_path, f\"{name}.png\")\n",
    "            plt.savefig(fig_path, format='png')\n",
    "\n",
    "    except Exception as e:\n",
    "        print(f\"Error generating plot: {e}\")\n",
    "        raise e"
   ]
  },
  {
   "cell_type": "code",
   "execution_count": 21,
   "metadata": {},
   "outputs": [
    {
     "data": {
      "application/vnd.plotly.v1+json": {
       "config": {
        "plotlyServerURL": "https://plot.ly"
       },
       "data": [
        {
         "cliponaxis": false,
         "hovertemplate": [
          "num_lstm_layers (IntDistribution): 0.04848514681774054<extra></extra>",
          "batch_size (IntDistribution): 0.08485724773777933<extra></extra>",
          "learning_rate (CategoricalDistribution): 0.20504849960365282<extra></extra>",
          "dropout_rate (FloatDistribution): 0.2954743908484824<extra></extra>",
          "lstm_units (IntDistribution): 0.3661347149923449<extra></extra>"
         ],
         "name": "Objective Value",
         "orientation": "h",
         "text": [
          "0.05",
          "0.08",
          "0.21",
          "0.30",
          "0.37"
         ],
         "textposition": "outside",
         "type": "bar",
         "x": [
          0.04848514681774054,
          0.08485724773777933,
          0.20504849960365282,
          0.2954743908484824,
          0.3661347149923449
         ],
         "y": [
          "num_lstm_layers",
          "batch_size",
          "learning_rate",
          "dropout_rate",
          "lstm_units"
         ]
        }
       ],
       "layout": {
        "template": {
         "data": {
          "bar": [
           {
            "error_x": {
             "color": "#2a3f5f"
            },
            "error_y": {
             "color": "#2a3f5f"
            },
            "marker": {
             "line": {
              "color": "#E5ECF6",
              "width": 0.5
             },
             "pattern": {
              "fillmode": "overlay",
              "size": 10,
              "solidity": 0.2
             }
            },
            "type": "bar"
           }
          ],
          "barpolar": [
           {
            "marker": {
             "line": {
              "color": "#E5ECF6",
              "width": 0.5
             },
             "pattern": {
              "fillmode": "overlay",
              "size": 10,
              "solidity": 0.2
             }
            },
            "type": "barpolar"
           }
          ],
          "carpet": [
           {
            "aaxis": {
             "endlinecolor": "#2a3f5f",
             "gridcolor": "white",
             "linecolor": "white",
             "minorgridcolor": "white",
             "startlinecolor": "#2a3f5f"
            },
            "baxis": {
             "endlinecolor": "#2a3f5f",
             "gridcolor": "white",
             "linecolor": "white",
             "minorgridcolor": "white",
             "startlinecolor": "#2a3f5f"
            },
            "type": "carpet"
           }
          ],
          "choropleth": [
           {
            "colorbar": {
             "outlinewidth": 0,
             "ticks": ""
            },
            "type": "choropleth"
           }
          ],
          "contour": [
           {
            "colorbar": {
             "outlinewidth": 0,
             "ticks": ""
            },
            "colorscale": [
             [
              0,
              "#0d0887"
             ],
             [
              0.1111111111111111,
              "#46039f"
             ],
             [
              0.2222222222222222,
              "#7201a8"
             ],
             [
              0.3333333333333333,
              "#9c179e"
             ],
             [
              0.4444444444444444,
              "#bd3786"
             ],
             [
              0.5555555555555556,
              "#d8576b"
             ],
             [
              0.6666666666666666,
              "#ed7953"
             ],
             [
              0.7777777777777778,
              "#fb9f3a"
             ],
             [
              0.8888888888888888,
              "#fdca26"
             ],
             [
              1,
              "#f0f921"
             ]
            ],
            "type": "contour"
           }
          ],
          "contourcarpet": [
           {
            "colorbar": {
             "outlinewidth": 0,
             "ticks": ""
            },
            "type": "contourcarpet"
           }
          ],
          "heatmap": [
           {
            "colorbar": {
             "outlinewidth": 0,
             "ticks": ""
            },
            "colorscale": [
             [
              0,
              "#0d0887"
             ],
             [
              0.1111111111111111,
              "#46039f"
             ],
             [
              0.2222222222222222,
              "#7201a8"
             ],
             [
              0.3333333333333333,
              "#9c179e"
             ],
             [
              0.4444444444444444,
              "#bd3786"
             ],
             [
              0.5555555555555556,
              "#d8576b"
             ],
             [
              0.6666666666666666,
              "#ed7953"
             ],
             [
              0.7777777777777778,
              "#fb9f3a"
             ],
             [
              0.8888888888888888,
              "#fdca26"
             ],
             [
              1,
              "#f0f921"
             ]
            ],
            "type": "heatmap"
           }
          ],
          "heatmapgl": [
           {
            "colorbar": {
             "outlinewidth": 0,
             "ticks": ""
            },
            "colorscale": [
             [
              0,
              "#0d0887"
             ],
             [
              0.1111111111111111,
              "#46039f"
             ],
             [
              0.2222222222222222,
              "#7201a8"
             ],
             [
              0.3333333333333333,
              "#9c179e"
             ],
             [
              0.4444444444444444,
              "#bd3786"
             ],
             [
              0.5555555555555556,
              "#d8576b"
             ],
             [
              0.6666666666666666,
              "#ed7953"
             ],
             [
              0.7777777777777778,
              "#fb9f3a"
             ],
             [
              0.8888888888888888,
              "#fdca26"
             ],
             [
              1,
              "#f0f921"
             ]
            ],
            "type": "heatmapgl"
           }
          ],
          "histogram": [
           {
            "marker": {
             "pattern": {
              "fillmode": "overlay",
              "size": 10,
              "solidity": 0.2
             }
            },
            "type": "histogram"
           }
          ],
          "histogram2d": [
           {
            "colorbar": {
             "outlinewidth": 0,
             "ticks": ""
            },
            "colorscale": [
             [
              0,
              "#0d0887"
             ],
             [
              0.1111111111111111,
              "#46039f"
             ],
             [
              0.2222222222222222,
              "#7201a8"
             ],
             [
              0.3333333333333333,
              "#9c179e"
             ],
             [
              0.4444444444444444,
              "#bd3786"
             ],
             [
              0.5555555555555556,
              "#d8576b"
             ],
             [
              0.6666666666666666,
              "#ed7953"
             ],
             [
              0.7777777777777778,
              "#fb9f3a"
             ],
             [
              0.8888888888888888,
              "#fdca26"
             ],
             [
              1,
              "#f0f921"
             ]
            ],
            "type": "histogram2d"
           }
          ],
          "histogram2dcontour": [
           {
            "colorbar": {
             "outlinewidth": 0,
             "ticks": ""
            },
            "colorscale": [
             [
              0,
              "#0d0887"
             ],
             [
              0.1111111111111111,
              "#46039f"
             ],
             [
              0.2222222222222222,
              "#7201a8"
             ],
             [
              0.3333333333333333,
              "#9c179e"
             ],
             [
              0.4444444444444444,
              "#bd3786"
             ],
             [
              0.5555555555555556,
              "#d8576b"
             ],
             [
              0.6666666666666666,
              "#ed7953"
             ],
             [
              0.7777777777777778,
              "#fb9f3a"
             ],
             [
              0.8888888888888888,
              "#fdca26"
             ],
             [
              1,
              "#f0f921"
             ]
            ],
            "type": "histogram2dcontour"
           }
          ],
          "mesh3d": [
           {
            "colorbar": {
             "outlinewidth": 0,
             "ticks": ""
            },
            "type": "mesh3d"
           }
          ],
          "parcoords": [
           {
            "line": {
             "colorbar": {
              "outlinewidth": 0,
              "ticks": ""
             }
            },
            "type": "parcoords"
           }
          ],
          "pie": [
           {
            "automargin": true,
            "type": "pie"
           }
          ],
          "scatter": [
           {
            "fillpattern": {
             "fillmode": "overlay",
             "size": 10,
             "solidity": 0.2
            },
            "type": "scatter"
           }
          ],
          "scatter3d": [
           {
            "line": {
             "colorbar": {
              "outlinewidth": 0,
              "ticks": ""
             }
            },
            "marker": {
             "colorbar": {
              "outlinewidth": 0,
              "ticks": ""
             }
            },
            "type": "scatter3d"
           }
          ],
          "scattercarpet": [
           {
            "marker": {
             "colorbar": {
              "outlinewidth": 0,
              "ticks": ""
             }
            },
            "type": "scattercarpet"
           }
          ],
          "scattergeo": [
           {
            "marker": {
             "colorbar": {
              "outlinewidth": 0,
              "ticks": ""
             }
            },
            "type": "scattergeo"
           }
          ],
          "scattergl": [
           {
            "marker": {
             "colorbar": {
              "outlinewidth": 0,
              "ticks": ""
             }
            },
            "type": "scattergl"
           }
          ],
          "scattermapbox": [
           {
            "marker": {
             "colorbar": {
              "outlinewidth": 0,
              "ticks": ""
             }
            },
            "type": "scattermapbox"
           }
          ],
          "scatterpolar": [
           {
            "marker": {
             "colorbar": {
              "outlinewidth": 0,
              "ticks": ""
             }
            },
            "type": "scatterpolar"
           }
          ],
          "scatterpolargl": [
           {
            "marker": {
             "colorbar": {
              "outlinewidth": 0,
              "ticks": ""
             }
            },
            "type": "scatterpolargl"
           }
          ],
          "scatterternary": [
           {
            "marker": {
             "colorbar": {
              "outlinewidth": 0,
              "ticks": ""
             }
            },
            "type": "scatterternary"
           }
          ],
          "surface": [
           {
            "colorbar": {
             "outlinewidth": 0,
             "ticks": ""
            },
            "colorscale": [
             [
              0,
              "#0d0887"
             ],
             [
              0.1111111111111111,
              "#46039f"
             ],
             [
              0.2222222222222222,
              "#7201a8"
             ],
             [
              0.3333333333333333,
              "#9c179e"
             ],
             [
              0.4444444444444444,
              "#bd3786"
             ],
             [
              0.5555555555555556,
              "#d8576b"
             ],
             [
              0.6666666666666666,
              "#ed7953"
             ],
             [
              0.7777777777777778,
              "#fb9f3a"
             ],
             [
              0.8888888888888888,
              "#fdca26"
             ],
             [
              1,
              "#f0f921"
             ]
            ],
            "type": "surface"
           }
          ],
          "table": [
           {
            "cells": {
             "fill": {
              "color": "#EBF0F8"
             },
             "line": {
              "color": "white"
             }
            },
            "header": {
             "fill": {
              "color": "#C8D4E3"
             },
             "line": {
              "color": "white"
             }
            },
            "type": "table"
           }
          ]
         },
         "layout": {
          "annotationdefaults": {
           "arrowcolor": "#2a3f5f",
           "arrowhead": 0,
           "arrowwidth": 1
          },
          "autotypenumbers": "strict",
          "coloraxis": {
           "colorbar": {
            "outlinewidth": 0,
            "ticks": ""
           }
          },
          "colorscale": {
           "diverging": [
            [
             0,
             "#8e0152"
            ],
            [
             0.1,
             "#c51b7d"
            ],
            [
             0.2,
             "#de77ae"
            ],
            [
             0.3,
             "#f1b6da"
            ],
            [
             0.4,
             "#fde0ef"
            ],
            [
             0.5,
             "#f7f7f7"
            ],
            [
             0.6,
             "#e6f5d0"
            ],
            [
             0.7,
             "#b8e186"
            ],
            [
             0.8,
             "#7fbc41"
            ],
            [
             0.9,
             "#4d9221"
            ],
            [
             1,
             "#276419"
            ]
           ],
           "sequential": [
            [
             0,
             "#0d0887"
            ],
            [
             0.1111111111111111,
             "#46039f"
            ],
            [
             0.2222222222222222,
             "#7201a8"
            ],
            [
             0.3333333333333333,
             "#9c179e"
            ],
            [
             0.4444444444444444,
             "#bd3786"
            ],
            [
             0.5555555555555556,
             "#d8576b"
            ],
            [
             0.6666666666666666,
             "#ed7953"
            ],
            [
             0.7777777777777778,
             "#fb9f3a"
            ],
            [
             0.8888888888888888,
             "#fdca26"
            ],
            [
             1,
             "#f0f921"
            ]
           ],
           "sequentialminus": [
            [
             0,
             "#0d0887"
            ],
            [
             0.1111111111111111,
             "#46039f"
            ],
            [
             0.2222222222222222,
             "#7201a8"
            ],
            [
             0.3333333333333333,
             "#9c179e"
            ],
            [
             0.4444444444444444,
             "#bd3786"
            ],
            [
             0.5555555555555556,
             "#d8576b"
            ],
            [
             0.6666666666666666,
             "#ed7953"
            ],
            [
             0.7777777777777778,
             "#fb9f3a"
            ],
            [
             0.8888888888888888,
             "#fdca26"
            ],
            [
             1,
             "#f0f921"
            ]
           ]
          },
          "colorway": [
           "#636efa",
           "#EF553B",
           "#00cc96",
           "#ab63fa",
           "#FFA15A",
           "#19d3f3",
           "#FF6692",
           "#B6E880",
           "#FF97FF",
           "#FECB52"
          ],
          "font": {
           "color": "#2a3f5f"
          },
          "geo": {
           "bgcolor": "white",
           "lakecolor": "white",
           "landcolor": "#E5ECF6",
           "showlakes": true,
           "showland": true,
           "subunitcolor": "white"
          },
          "hoverlabel": {
           "align": "left"
          },
          "hovermode": "closest",
          "mapbox": {
           "style": "light"
          },
          "paper_bgcolor": "white",
          "plot_bgcolor": "#E5ECF6",
          "polar": {
           "angularaxis": {
            "gridcolor": "white",
            "linecolor": "white",
            "ticks": ""
           },
           "bgcolor": "#E5ECF6",
           "radialaxis": {
            "gridcolor": "white",
            "linecolor": "white",
            "ticks": ""
           }
          },
          "scene": {
           "xaxis": {
            "backgroundcolor": "#E5ECF6",
            "gridcolor": "white",
            "gridwidth": 2,
            "linecolor": "white",
            "showbackground": true,
            "ticks": "",
            "zerolinecolor": "white"
           },
           "yaxis": {
            "backgroundcolor": "#E5ECF6",
            "gridcolor": "white",
            "gridwidth": 2,
            "linecolor": "white",
            "showbackground": true,
            "ticks": "",
            "zerolinecolor": "white"
           },
           "zaxis": {
            "backgroundcolor": "#E5ECF6",
            "gridcolor": "white",
            "gridwidth": 2,
            "linecolor": "white",
            "showbackground": true,
            "ticks": "",
            "zerolinecolor": "white"
           }
          },
          "shapedefaults": {
           "line": {
            "color": "#2a3f5f"
           }
          },
          "ternary": {
           "aaxis": {
            "gridcolor": "white",
            "linecolor": "white",
            "ticks": ""
           },
           "baxis": {
            "gridcolor": "white",
            "linecolor": "white",
            "ticks": ""
           },
           "bgcolor": "#E5ECF6",
           "caxis": {
            "gridcolor": "white",
            "linecolor": "white",
            "ticks": ""
           }
          },
          "title": {
           "x": 0.05
          },
          "xaxis": {
           "automargin": true,
           "gridcolor": "white",
           "linecolor": "white",
           "ticks": "",
           "title": {
            "standoff": 15
           },
           "zerolinecolor": "white",
           "zerolinewidth": 2
          },
          "yaxis": {
           "automargin": true,
           "gridcolor": "white",
           "linecolor": "white",
           "ticks": "",
           "title": {
            "standoff": 15
           },
           "zerolinecolor": "white",
           "zerolinewidth": 2
          }
         }
        },
        "title": {
         "text": "Hyperparameter Importances"
        },
        "xaxis": {
         "title": {
          "text": "Hyperparameter Importance"
         }
        },
        "yaxis": {
         "title": {
          "text": "Hyperparameter"
         }
        }
       }
      }
     },
     "metadata": {},
     "output_type": "display_data"
    },
    {
     "data": {
      "application/vnd.plotly.v1+json": {
       "config": {
        "plotlyServerURL": "https://plot.ly"
       },
       "data": [
        {
         "mode": "markers",
         "name": "Objective Value",
         "type": "scatter",
         "x": [
          0,
          1,
          2,
          3,
          4,
          8,
          14,
          15
         ],
         "y": [
          0.0006018750718794763,
          0.000008276693733932916,
          0.0002055873192148283,
          0.0017060951795428991,
          0.000600813131313771,
          0.000016189653251785785,
          0.000004330006504460471,
          0.000006385227152350126
         ]
        },
        {
         "mode": "lines",
         "name": "Best Value",
         "type": "scatter",
         "x": [
          0,
          1,
          2,
          3,
          4,
          5,
          6,
          7,
          8,
          9,
          10,
          11,
          12,
          13,
          14,
          15,
          16,
          17,
          18,
          19,
          20,
          21,
          22,
          23,
          24
         ],
         "y": [
          0.0006018750718794763,
          0.000008276693733932916,
          0.000008276693733932916,
          0.000008276693733932916,
          0.000008276693733932916,
          0.000008276693733932916,
          0.000008276693733932916,
          0.000008276693733932916,
          0.000008276693733932916,
          0.000008276693733932916,
          0.000008276693733932916,
          0.000008276693733932916,
          0.000008276693733932916,
          0.000008276693733932916,
          0.000004330006504460471,
          0.000004330006504460471,
          0.000004330006504460471,
          0.000004330006504460471,
          0.000004330006504460471,
          0.000004330006504460471,
          0.000004330006504460471,
          0.000004330006504460471,
          0.000004330006504460471,
          0.000004330006504460471,
          0.000004330006504460471
         ]
        },
        {
         "marker": {
          "color": "#cccccc"
         },
         "mode": "markers",
         "name": "Infeasible Trial",
         "showlegend": false,
         "type": "scatter",
         "x": [],
         "y": []
        }
       ],
       "layout": {
        "template": {
         "data": {
          "bar": [
           {
            "error_x": {
             "color": "#2a3f5f"
            },
            "error_y": {
             "color": "#2a3f5f"
            },
            "marker": {
             "line": {
              "color": "#E5ECF6",
              "width": 0.5
             },
             "pattern": {
              "fillmode": "overlay",
              "size": 10,
              "solidity": 0.2
             }
            },
            "type": "bar"
           }
          ],
          "barpolar": [
           {
            "marker": {
             "line": {
              "color": "#E5ECF6",
              "width": 0.5
             },
             "pattern": {
              "fillmode": "overlay",
              "size": 10,
              "solidity": 0.2
             }
            },
            "type": "barpolar"
           }
          ],
          "carpet": [
           {
            "aaxis": {
             "endlinecolor": "#2a3f5f",
             "gridcolor": "white",
             "linecolor": "white",
             "minorgridcolor": "white",
             "startlinecolor": "#2a3f5f"
            },
            "baxis": {
             "endlinecolor": "#2a3f5f",
             "gridcolor": "white",
             "linecolor": "white",
             "minorgridcolor": "white",
             "startlinecolor": "#2a3f5f"
            },
            "type": "carpet"
           }
          ],
          "choropleth": [
           {
            "colorbar": {
             "outlinewidth": 0,
             "ticks": ""
            },
            "type": "choropleth"
           }
          ],
          "contour": [
           {
            "colorbar": {
             "outlinewidth": 0,
             "ticks": ""
            },
            "colorscale": [
             [
              0,
              "#0d0887"
             ],
             [
              0.1111111111111111,
              "#46039f"
             ],
             [
              0.2222222222222222,
              "#7201a8"
             ],
             [
              0.3333333333333333,
              "#9c179e"
             ],
             [
              0.4444444444444444,
              "#bd3786"
             ],
             [
              0.5555555555555556,
              "#d8576b"
             ],
             [
              0.6666666666666666,
              "#ed7953"
             ],
             [
              0.7777777777777778,
              "#fb9f3a"
             ],
             [
              0.8888888888888888,
              "#fdca26"
             ],
             [
              1,
              "#f0f921"
             ]
            ],
            "type": "contour"
           }
          ],
          "contourcarpet": [
           {
            "colorbar": {
             "outlinewidth": 0,
             "ticks": ""
            },
            "type": "contourcarpet"
           }
          ],
          "heatmap": [
           {
            "colorbar": {
             "outlinewidth": 0,
             "ticks": ""
            },
            "colorscale": [
             [
              0,
              "#0d0887"
             ],
             [
              0.1111111111111111,
              "#46039f"
             ],
             [
              0.2222222222222222,
              "#7201a8"
             ],
             [
              0.3333333333333333,
              "#9c179e"
             ],
             [
              0.4444444444444444,
              "#bd3786"
             ],
             [
              0.5555555555555556,
              "#d8576b"
             ],
             [
              0.6666666666666666,
              "#ed7953"
             ],
             [
              0.7777777777777778,
              "#fb9f3a"
             ],
             [
              0.8888888888888888,
              "#fdca26"
             ],
             [
              1,
              "#f0f921"
             ]
            ],
            "type": "heatmap"
           }
          ],
          "heatmapgl": [
           {
            "colorbar": {
             "outlinewidth": 0,
             "ticks": ""
            },
            "colorscale": [
             [
              0,
              "#0d0887"
             ],
             [
              0.1111111111111111,
              "#46039f"
             ],
             [
              0.2222222222222222,
              "#7201a8"
             ],
             [
              0.3333333333333333,
              "#9c179e"
             ],
             [
              0.4444444444444444,
              "#bd3786"
             ],
             [
              0.5555555555555556,
              "#d8576b"
             ],
             [
              0.6666666666666666,
              "#ed7953"
             ],
             [
              0.7777777777777778,
              "#fb9f3a"
             ],
             [
              0.8888888888888888,
              "#fdca26"
             ],
             [
              1,
              "#f0f921"
             ]
            ],
            "type": "heatmapgl"
           }
          ],
          "histogram": [
           {
            "marker": {
             "pattern": {
              "fillmode": "overlay",
              "size": 10,
              "solidity": 0.2
             }
            },
            "type": "histogram"
           }
          ],
          "histogram2d": [
           {
            "colorbar": {
             "outlinewidth": 0,
             "ticks": ""
            },
            "colorscale": [
             [
              0,
              "#0d0887"
             ],
             [
              0.1111111111111111,
              "#46039f"
             ],
             [
              0.2222222222222222,
              "#7201a8"
             ],
             [
              0.3333333333333333,
              "#9c179e"
             ],
             [
              0.4444444444444444,
              "#bd3786"
             ],
             [
              0.5555555555555556,
              "#d8576b"
             ],
             [
              0.6666666666666666,
              "#ed7953"
             ],
             [
              0.7777777777777778,
              "#fb9f3a"
             ],
             [
              0.8888888888888888,
              "#fdca26"
             ],
             [
              1,
              "#f0f921"
             ]
            ],
            "type": "histogram2d"
           }
          ],
          "histogram2dcontour": [
           {
            "colorbar": {
             "outlinewidth": 0,
             "ticks": ""
            },
            "colorscale": [
             [
              0,
              "#0d0887"
             ],
             [
              0.1111111111111111,
              "#46039f"
             ],
             [
              0.2222222222222222,
              "#7201a8"
             ],
             [
              0.3333333333333333,
              "#9c179e"
             ],
             [
              0.4444444444444444,
              "#bd3786"
             ],
             [
              0.5555555555555556,
              "#d8576b"
             ],
             [
              0.6666666666666666,
              "#ed7953"
             ],
             [
              0.7777777777777778,
              "#fb9f3a"
             ],
             [
              0.8888888888888888,
              "#fdca26"
             ],
             [
              1,
              "#f0f921"
             ]
            ],
            "type": "histogram2dcontour"
           }
          ],
          "mesh3d": [
           {
            "colorbar": {
             "outlinewidth": 0,
             "ticks": ""
            },
            "type": "mesh3d"
           }
          ],
          "parcoords": [
           {
            "line": {
             "colorbar": {
              "outlinewidth": 0,
              "ticks": ""
             }
            },
            "type": "parcoords"
           }
          ],
          "pie": [
           {
            "automargin": true,
            "type": "pie"
           }
          ],
          "scatter": [
           {
            "fillpattern": {
             "fillmode": "overlay",
             "size": 10,
             "solidity": 0.2
            },
            "type": "scatter"
           }
          ],
          "scatter3d": [
           {
            "line": {
             "colorbar": {
              "outlinewidth": 0,
              "ticks": ""
             }
            },
            "marker": {
             "colorbar": {
              "outlinewidth": 0,
              "ticks": ""
             }
            },
            "type": "scatter3d"
           }
          ],
          "scattercarpet": [
           {
            "marker": {
             "colorbar": {
              "outlinewidth": 0,
              "ticks": ""
             }
            },
            "type": "scattercarpet"
           }
          ],
          "scattergeo": [
           {
            "marker": {
             "colorbar": {
              "outlinewidth": 0,
              "ticks": ""
             }
            },
            "type": "scattergeo"
           }
          ],
          "scattergl": [
           {
            "marker": {
             "colorbar": {
              "outlinewidth": 0,
              "ticks": ""
             }
            },
            "type": "scattergl"
           }
          ],
          "scattermapbox": [
           {
            "marker": {
             "colorbar": {
              "outlinewidth": 0,
              "ticks": ""
             }
            },
            "type": "scattermapbox"
           }
          ],
          "scatterpolar": [
           {
            "marker": {
             "colorbar": {
              "outlinewidth": 0,
              "ticks": ""
             }
            },
            "type": "scatterpolar"
           }
          ],
          "scatterpolargl": [
           {
            "marker": {
             "colorbar": {
              "outlinewidth": 0,
              "ticks": ""
             }
            },
            "type": "scatterpolargl"
           }
          ],
          "scatterternary": [
           {
            "marker": {
             "colorbar": {
              "outlinewidth": 0,
              "ticks": ""
             }
            },
            "type": "scatterternary"
           }
          ],
          "surface": [
           {
            "colorbar": {
             "outlinewidth": 0,
             "ticks": ""
            },
            "colorscale": [
             [
              0,
              "#0d0887"
             ],
             [
              0.1111111111111111,
              "#46039f"
             ],
             [
              0.2222222222222222,
              "#7201a8"
             ],
             [
              0.3333333333333333,
              "#9c179e"
             ],
             [
              0.4444444444444444,
              "#bd3786"
             ],
             [
              0.5555555555555556,
              "#d8576b"
             ],
             [
              0.6666666666666666,
              "#ed7953"
             ],
             [
              0.7777777777777778,
              "#fb9f3a"
             ],
             [
              0.8888888888888888,
              "#fdca26"
             ],
             [
              1,
              "#f0f921"
             ]
            ],
            "type": "surface"
           }
          ],
          "table": [
           {
            "cells": {
             "fill": {
              "color": "#EBF0F8"
             },
             "line": {
              "color": "white"
             }
            },
            "header": {
             "fill": {
              "color": "#C8D4E3"
             },
             "line": {
              "color": "white"
             }
            },
            "type": "table"
           }
          ]
         },
         "layout": {
          "annotationdefaults": {
           "arrowcolor": "#2a3f5f",
           "arrowhead": 0,
           "arrowwidth": 1
          },
          "autotypenumbers": "strict",
          "coloraxis": {
           "colorbar": {
            "outlinewidth": 0,
            "ticks": ""
           }
          },
          "colorscale": {
           "diverging": [
            [
             0,
             "#8e0152"
            ],
            [
             0.1,
             "#c51b7d"
            ],
            [
             0.2,
             "#de77ae"
            ],
            [
             0.3,
             "#f1b6da"
            ],
            [
             0.4,
             "#fde0ef"
            ],
            [
             0.5,
             "#f7f7f7"
            ],
            [
             0.6,
             "#e6f5d0"
            ],
            [
             0.7,
             "#b8e186"
            ],
            [
             0.8,
             "#7fbc41"
            ],
            [
             0.9,
             "#4d9221"
            ],
            [
             1,
             "#276419"
            ]
           ],
           "sequential": [
            [
             0,
             "#0d0887"
            ],
            [
             0.1111111111111111,
             "#46039f"
            ],
            [
             0.2222222222222222,
             "#7201a8"
            ],
            [
             0.3333333333333333,
             "#9c179e"
            ],
            [
             0.4444444444444444,
             "#bd3786"
            ],
            [
             0.5555555555555556,
             "#d8576b"
            ],
            [
             0.6666666666666666,
             "#ed7953"
            ],
            [
             0.7777777777777778,
             "#fb9f3a"
            ],
            [
             0.8888888888888888,
             "#fdca26"
            ],
            [
             1,
             "#f0f921"
            ]
           ],
           "sequentialminus": [
            [
             0,
             "#0d0887"
            ],
            [
             0.1111111111111111,
             "#46039f"
            ],
            [
             0.2222222222222222,
             "#7201a8"
            ],
            [
             0.3333333333333333,
             "#9c179e"
            ],
            [
             0.4444444444444444,
             "#bd3786"
            ],
            [
             0.5555555555555556,
             "#d8576b"
            ],
            [
             0.6666666666666666,
             "#ed7953"
            ],
            [
             0.7777777777777778,
             "#fb9f3a"
            ],
            [
             0.8888888888888888,
             "#fdca26"
            ],
            [
             1,
             "#f0f921"
            ]
           ]
          },
          "colorway": [
           "#636efa",
           "#EF553B",
           "#00cc96",
           "#ab63fa",
           "#FFA15A",
           "#19d3f3",
           "#FF6692",
           "#B6E880",
           "#FF97FF",
           "#FECB52"
          ],
          "font": {
           "color": "#2a3f5f"
          },
          "geo": {
           "bgcolor": "white",
           "lakecolor": "white",
           "landcolor": "#E5ECF6",
           "showlakes": true,
           "showland": true,
           "subunitcolor": "white"
          },
          "hoverlabel": {
           "align": "left"
          },
          "hovermode": "closest",
          "mapbox": {
           "style": "light"
          },
          "paper_bgcolor": "white",
          "plot_bgcolor": "#E5ECF6",
          "polar": {
           "angularaxis": {
            "gridcolor": "white",
            "linecolor": "white",
            "ticks": ""
           },
           "bgcolor": "#E5ECF6",
           "radialaxis": {
            "gridcolor": "white",
            "linecolor": "white",
            "ticks": ""
           }
          },
          "scene": {
           "xaxis": {
            "backgroundcolor": "#E5ECF6",
            "gridcolor": "white",
            "gridwidth": 2,
            "linecolor": "white",
            "showbackground": true,
            "ticks": "",
            "zerolinecolor": "white"
           },
           "yaxis": {
            "backgroundcolor": "#E5ECF6",
            "gridcolor": "white",
            "gridwidth": 2,
            "linecolor": "white",
            "showbackground": true,
            "ticks": "",
            "zerolinecolor": "white"
           },
           "zaxis": {
            "backgroundcolor": "#E5ECF6",
            "gridcolor": "white",
            "gridwidth": 2,
            "linecolor": "white",
            "showbackground": true,
            "ticks": "",
            "zerolinecolor": "white"
           }
          },
          "shapedefaults": {
           "line": {
            "color": "#2a3f5f"
           }
          },
          "ternary": {
           "aaxis": {
            "gridcolor": "white",
            "linecolor": "white",
            "ticks": ""
           },
           "baxis": {
            "gridcolor": "white",
            "linecolor": "white",
            "ticks": ""
           },
           "bgcolor": "#E5ECF6",
           "caxis": {
            "gridcolor": "white",
            "linecolor": "white",
            "ticks": ""
           }
          },
          "title": {
           "x": 0.05
          },
          "xaxis": {
           "automargin": true,
           "gridcolor": "white",
           "linecolor": "white",
           "ticks": "",
           "title": {
            "standoff": 15
           },
           "zerolinecolor": "white",
           "zerolinewidth": 2
          },
          "yaxis": {
           "automargin": true,
           "gridcolor": "white",
           "linecolor": "white",
           "ticks": "",
           "title": {
            "standoff": 15
           },
           "zerolinecolor": "white",
           "zerolinewidth": 2
          }
         }
        },
        "title": {
         "text": "Optimization History Plot"
        },
        "xaxis": {
         "title": {
          "text": "Trial"
         }
        },
        "yaxis": {
         "title": {
          "text": "Objective Value"
         }
        }
       }
      }
     },
     "metadata": {},
     "output_type": "display_data"
    },
    {
     "data": {
      "application/vnd.plotly.v1+json": {
       "config": {
        "plotlyServerURL": "https://plot.ly"
       },
       "data": [
        {
         "dimensions": [
          {
           "label": "Objective Value",
           "range": [
            0.000004330006504460471,
            0.0017060951795428991
           ],
           "values": [
            0.000008276693733932916,
            0.000016189653251785785,
            0.000004330006504460471,
            0.000006385227152350126,
            0.0006018750718794763,
            0.0002055873192148283,
            0.0017060951795428991,
            0.000600813131313771
           ]
          },
          {
           "label": "batch_size",
           "range": [
            96,
            128
           ],
           "values": [
            128,
            128,
            128,
            96,
            128,
            96,
            96,
            128
           ]
          },
          {
           "label": "dropout_rate",
           "range": [
            0.1132314583829433,
            0.25734516020498166
           ],
           "values": [
            0.25734516020498166,
            0.16415198401394054,
            0.12089782674538327,
            0.1132314583829433,
            0.20496831638639584,
            0.15734649995981875,
            0.24672518609258942,
            0.1869807344816544
           ]
          },
          {
           "label": "learning_rate",
           "range": [
            0,
            2
           ],
           "ticktext": [
            "0.0001",
            "0.001",
            "0.01"
           ],
           "tickvals": [
            0,
            1,
            2
           ],
           "values": [
            0,
            0,
            0,
            0,
            1,
            1,
            1,
            2
           ]
          },
          {
           "label": "lstm_units",
           "range": [
            48,
            61
           ],
           "values": [
            61,
            59,
            61,
            52,
            48,
            57,
            48,
            57
           ]
          },
          {
           "label": "num_lstm_layers",
           "range": [
            1,
            2
           ],
           "values": [
            1,
            1,
            1,
            1,
            2,
            2,
            2,
            1
           ]
          }
         ],
         "labelangle": 30,
         "labelside": "bottom",
         "line": {
          "color": [
           0.000008276693733932916,
           0.000016189653251785785,
           0.000004330006504460471,
           0.000006385227152350126,
           0.0006018750718794763,
           0.0002055873192148283,
           0.0017060951795428991,
           0.000600813131313771
          ],
          "colorbar": {
           "title": {
            "text": "Objective Value"
           }
          },
          "colorscale": [
           [
            0,
            "rgb(247,251,255)"
           ],
           [
            0.125,
            "rgb(222,235,247)"
           ],
           [
            0.25,
            "rgb(198,219,239)"
           ],
           [
            0.375,
            "rgb(158,202,225)"
           ],
           [
            0.5,
            "rgb(107,174,214)"
           ],
           [
            0.625,
            "rgb(66,146,198)"
           ],
           [
            0.75,
            "rgb(33,113,181)"
           ],
           [
            0.875,
            "rgb(8,81,156)"
           ],
           [
            1,
            "rgb(8,48,107)"
           ]
          ],
          "reversescale": true,
          "showscale": true
         },
         "type": "parcoords"
        }
       ],
       "layout": {
        "template": {
         "data": {
          "bar": [
           {
            "error_x": {
             "color": "#2a3f5f"
            },
            "error_y": {
             "color": "#2a3f5f"
            },
            "marker": {
             "line": {
              "color": "#E5ECF6",
              "width": 0.5
             },
             "pattern": {
              "fillmode": "overlay",
              "size": 10,
              "solidity": 0.2
             }
            },
            "type": "bar"
           }
          ],
          "barpolar": [
           {
            "marker": {
             "line": {
              "color": "#E5ECF6",
              "width": 0.5
             },
             "pattern": {
              "fillmode": "overlay",
              "size": 10,
              "solidity": 0.2
             }
            },
            "type": "barpolar"
           }
          ],
          "carpet": [
           {
            "aaxis": {
             "endlinecolor": "#2a3f5f",
             "gridcolor": "white",
             "linecolor": "white",
             "minorgridcolor": "white",
             "startlinecolor": "#2a3f5f"
            },
            "baxis": {
             "endlinecolor": "#2a3f5f",
             "gridcolor": "white",
             "linecolor": "white",
             "minorgridcolor": "white",
             "startlinecolor": "#2a3f5f"
            },
            "type": "carpet"
           }
          ],
          "choropleth": [
           {
            "colorbar": {
             "outlinewidth": 0,
             "ticks": ""
            },
            "type": "choropleth"
           }
          ],
          "contour": [
           {
            "colorbar": {
             "outlinewidth": 0,
             "ticks": ""
            },
            "colorscale": [
             [
              0,
              "#0d0887"
             ],
             [
              0.1111111111111111,
              "#46039f"
             ],
             [
              0.2222222222222222,
              "#7201a8"
             ],
             [
              0.3333333333333333,
              "#9c179e"
             ],
             [
              0.4444444444444444,
              "#bd3786"
             ],
             [
              0.5555555555555556,
              "#d8576b"
             ],
             [
              0.6666666666666666,
              "#ed7953"
             ],
             [
              0.7777777777777778,
              "#fb9f3a"
             ],
             [
              0.8888888888888888,
              "#fdca26"
             ],
             [
              1,
              "#f0f921"
             ]
            ],
            "type": "contour"
           }
          ],
          "contourcarpet": [
           {
            "colorbar": {
             "outlinewidth": 0,
             "ticks": ""
            },
            "type": "contourcarpet"
           }
          ],
          "heatmap": [
           {
            "colorbar": {
             "outlinewidth": 0,
             "ticks": ""
            },
            "colorscale": [
             [
              0,
              "#0d0887"
             ],
             [
              0.1111111111111111,
              "#46039f"
             ],
             [
              0.2222222222222222,
              "#7201a8"
             ],
             [
              0.3333333333333333,
              "#9c179e"
             ],
             [
              0.4444444444444444,
              "#bd3786"
             ],
             [
              0.5555555555555556,
              "#d8576b"
             ],
             [
              0.6666666666666666,
              "#ed7953"
             ],
             [
              0.7777777777777778,
              "#fb9f3a"
             ],
             [
              0.8888888888888888,
              "#fdca26"
             ],
             [
              1,
              "#f0f921"
             ]
            ],
            "type": "heatmap"
           }
          ],
          "heatmapgl": [
           {
            "colorbar": {
             "outlinewidth": 0,
             "ticks": ""
            },
            "colorscale": [
             [
              0,
              "#0d0887"
             ],
             [
              0.1111111111111111,
              "#46039f"
             ],
             [
              0.2222222222222222,
              "#7201a8"
             ],
             [
              0.3333333333333333,
              "#9c179e"
             ],
             [
              0.4444444444444444,
              "#bd3786"
             ],
             [
              0.5555555555555556,
              "#d8576b"
             ],
             [
              0.6666666666666666,
              "#ed7953"
             ],
             [
              0.7777777777777778,
              "#fb9f3a"
             ],
             [
              0.8888888888888888,
              "#fdca26"
             ],
             [
              1,
              "#f0f921"
             ]
            ],
            "type": "heatmapgl"
           }
          ],
          "histogram": [
           {
            "marker": {
             "pattern": {
              "fillmode": "overlay",
              "size": 10,
              "solidity": 0.2
             }
            },
            "type": "histogram"
           }
          ],
          "histogram2d": [
           {
            "colorbar": {
             "outlinewidth": 0,
             "ticks": ""
            },
            "colorscale": [
             [
              0,
              "#0d0887"
             ],
             [
              0.1111111111111111,
              "#46039f"
             ],
             [
              0.2222222222222222,
              "#7201a8"
             ],
             [
              0.3333333333333333,
              "#9c179e"
             ],
             [
              0.4444444444444444,
              "#bd3786"
             ],
             [
              0.5555555555555556,
              "#d8576b"
             ],
             [
              0.6666666666666666,
              "#ed7953"
             ],
             [
              0.7777777777777778,
              "#fb9f3a"
             ],
             [
              0.8888888888888888,
              "#fdca26"
             ],
             [
              1,
              "#f0f921"
             ]
            ],
            "type": "histogram2d"
           }
          ],
          "histogram2dcontour": [
           {
            "colorbar": {
             "outlinewidth": 0,
             "ticks": ""
            },
            "colorscale": [
             [
              0,
              "#0d0887"
             ],
             [
              0.1111111111111111,
              "#46039f"
             ],
             [
              0.2222222222222222,
              "#7201a8"
             ],
             [
              0.3333333333333333,
              "#9c179e"
             ],
             [
              0.4444444444444444,
              "#bd3786"
             ],
             [
              0.5555555555555556,
              "#d8576b"
             ],
             [
              0.6666666666666666,
              "#ed7953"
             ],
             [
              0.7777777777777778,
              "#fb9f3a"
             ],
             [
              0.8888888888888888,
              "#fdca26"
             ],
             [
              1,
              "#f0f921"
             ]
            ],
            "type": "histogram2dcontour"
           }
          ],
          "mesh3d": [
           {
            "colorbar": {
             "outlinewidth": 0,
             "ticks": ""
            },
            "type": "mesh3d"
           }
          ],
          "parcoords": [
           {
            "line": {
             "colorbar": {
              "outlinewidth": 0,
              "ticks": ""
             }
            },
            "type": "parcoords"
           }
          ],
          "pie": [
           {
            "automargin": true,
            "type": "pie"
           }
          ],
          "scatter": [
           {
            "fillpattern": {
             "fillmode": "overlay",
             "size": 10,
             "solidity": 0.2
            },
            "type": "scatter"
           }
          ],
          "scatter3d": [
           {
            "line": {
             "colorbar": {
              "outlinewidth": 0,
              "ticks": ""
             }
            },
            "marker": {
             "colorbar": {
              "outlinewidth": 0,
              "ticks": ""
             }
            },
            "type": "scatter3d"
           }
          ],
          "scattercarpet": [
           {
            "marker": {
             "colorbar": {
              "outlinewidth": 0,
              "ticks": ""
             }
            },
            "type": "scattercarpet"
           }
          ],
          "scattergeo": [
           {
            "marker": {
             "colorbar": {
              "outlinewidth": 0,
              "ticks": ""
             }
            },
            "type": "scattergeo"
           }
          ],
          "scattergl": [
           {
            "marker": {
             "colorbar": {
              "outlinewidth": 0,
              "ticks": ""
             }
            },
            "type": "scattergl"
           }
          ],
          "scattermapbox": [
           {
            "marker": {
             "colorbar": {
              "outlinewidth": 0,
              "ticks": ""
             }
            },
            "type": "scattermapbox"
           }
          ],
          "scatterpolar": [
           {
            "marker": {
             "colorbar": {
              "outlinewidth": 0,
              "ticks": ""
             }
            },
            "type": "scatterpolar"
           }
          ],
          "scatterpolargl": [
           {
            "marker": {
             "colorbar": {
              "outlinewidth": 0,
              "ticks": ""
             }
            },
            "type": "scatterpolargl"
           }
          ],
          "scatterternary": [
           {
            "marker": {
             "colorbar": {
              "outlinewidth": 0,
              "ticks": ""
             }
            },
            "type": "scatterternary"
           }
          ],
          "surface": [
           {
            "colorbar": {
             "outlinewidth": 0,
             "ticks": ""
            },
            "colorscale": [
             [
              0,
              "#0d0887"
             ],
             [
              0.1111111111111111,
              "#46039f"
             ],
             [
              0.2222222222222222,
              "#7201a8"
             ],
             [
              0.3333333333333333,
              "#9c179e"
             ],
             [
              0.4444444444444444,
              "#bd3786"
             ],
             [
              0.5555555555555556,
              "#d8576b"
             ],
             [
              0.6666666666666666,
              "#ed7953"
             ],
             [
              0.7777777777777778,
              "#fb9f3a"
             ],
             [
              0.8888888888888888,
              "#fdca26"
             ],
             [
              1,
              "#f0f921"
             ]
            ],
            "type": "surface"
           }
          ],
          "table": [
           {
            "cells": {
             "fill": {
              "color": "#EBF0F8"
             },
             "line": {
              "color": "white"
             }
            },
            "header": {
             "fill": {
              "color": "#C8D4E3"
             },
             "line": {
              "color": "white"
             }
            },
            "type": "table"
           }
          ]
         },
         "layout": {
          "annotationdefaults": {
           "arrowcolor": "#2a3f5f",
           "arrowhead": 0,
           "arrowwidth": 1
          },
          "autotypenumbers": "strict",
          "coloraxis": {
           "colorbar": {
            "outlinewidth": 0,
            "ticks": ""
           }
          },
          "colorscale": {
           "diverging": [
            [
             0,
             "#8e0152"
            ],
            [
             0.1,
             "#c51b7d"
            ],
            [
             0.2,
             "#de77ae"
            ],
            [
             0.3,
             "#f1b6da"
            ],
            [
             0.4,
             "#fde0ef"
            ],
            [
             0.5,
             "#f7f7f7"
            ],
            [
             0.6,
             "#e6f5d0"
            ],
            [
             0.7,
             "#b8e186"
            ],
            [
             0.8,
             "#7fbc41"
            ],
            [
             0.9,
             "#4d9221"
            ],
            [
             1,
             "#276419"
            ]
           ],
           "sequential": [
            [
             0,
             "#0d0887"
            ],
            [
             0.1111111111111111,
             "#46039f"
            ],
            [
             0.2222222222222222,
             "#7201a8"
            ],
            [
             0.3333333333333333,
             "#9c179e"
            ],
            [
             0.4444444444444444,
             "#bd3786"
            ],
            [
             0.5555555555555556,
             "#d8576b"
            ],
            [
             0.6666666666666666,
             "#ed7953"
            ],
            [
             0.7777777777777778,
             "#fb9f3a"
            ],
            [
             0.8888888888888888,
             "#fdca26"
            ],
            [
             1,
             "#f0f921"
            ]
           ],
           "sequentialminus": [
            [
             0,
             "#0d0887"
            ],
            [
             0.1111111111111111,
             "#46039f"
            ],
            [
             0.2222222222222222,
             "#7201a8"
            ],
            [
             0.3333333333333333,
             "#9c179e"
            ],
            [
             0.4444444444444444,
             "#bd3786"
            ],
            [
             0.5555555555555556,
             "#d8576b"
            ],
            [
             0.6666666666666666,
             "#ed7953"
            ],
            [
             0.7777777777777778,
             "#fb9f3a"
            ],
            [
             0.8888888888888888,
             "#fdca26"
            ],
            [
             1,
             "#f0f921"
            ]
           ]
          },
          "colorway": [
           "#636efa",
           "#EF553B",
           "#00cc96",
           "#ab63fa",
           "#FFA15A",
           "#19d3f3",
           "#FF6692",
           "#B6E880",
           "#FF97FF",
           "#FECB52"
          ],
          "font": {
           "color": "#2a3f5f"
          },
          "geo": {
           "bgcolor": "white",
           "lakecolor": "white",
           "landcolor": "#E5ECF6",
           "showlakes": true,
           "showland": true,
           "subunitcolor": "white"
          },
          "hoverlabel": {
           "align": "left"
          },
          "hovermode": "closest",
          "mapbox": {
           "style": "light"
          },
          "paper_bgcolor": "white",
          "plot_bgcolor": "#E5ECF6",
          "polar": {
           "angularaxis": {
            "gridcolor": "white",
            "linecolor": "white",
            "ticks": ""
           },
           "bgcolor": "#E5ECF6",
           "radialaxis": {
            "gridcolor": "white",
            "linecolor": "white",
            "ticks": ""
           }
          },
          "scene": {
           "xaxis": {
            "backgroundcolor": "#E5ECF6",
            "gridcolor": "white",
            "gridwidth": 2,
            "linecolor": "white",
            "showbackground": true,
            "ticks": "",
            "zerolinecolor": "white"
           },
           "yaxis": {
            "backgroundcolor": "#E5ECF6",
            "gridcolor": "white",
            "gridwidth": 2,
            "linecolor": "white",
            "showbackground": true,
            "ticks": "",
            "zerolinecolor": "white"
           },
           "zaxis": {
            "backgroundcolor": "#E5ECF6",
            "gridcolor": "white",
            "gridwidth": 2,
            "linecolor": "white",
            "showbackground": true,
            "ticks": "",
            "zerolinecolor": "white"
           }
          },
          "shapedefaults": {
           "line": {
            "color": "#2a3f5f"
           }
          },
          "ternary": {
           "aaxis": {
            "gridcolor": "white",
            "linecolor": "white",
            "ticks": ""
           },
           "baxis": {
            "gridcolor": "white",
            "linecolor": "white",
            "ticks": ""
           },
           "bgcolor": "#E5ECF6",
           "caxis": {
            "gridcolor": "white",
            "linecolor": "white",
            "ticks": ""
           }
          },
          "title": {
           "x": 0.05
          },
          "xaxis": {
           "automargin": true,
           "gridcolor": "white",
           "linecolor": "white",
           "ticks": "",
           "title": {
            "standoff": 15
           },
           "zerolinecolor": "white",
           "zerolinewidth": 2
          },
          "yaxis": {
           "automargin": true,
           "gridcolor": "white",
           "linecolor": "white",
           "ticks": "",
           "title": {
            "standoff": 15
           },
           "zerolinecolor": "white",
           "zerolinewidth": 2
          }
         }
        },
        "title": {
         "text": "Parallel Coordinate Plot"
        }
       }
      }
     },
     "metadata": {},
     "output_type": "display_data"
    }
   ],
   "source": [
    "saving_path = os.path.join(RESULTS_PATH, \"plots\")\n",
    "# Create the directory if it doesn't exist\n",
    "os.makedirs(saving_path, exist_ok=True)\n",
    "\n",
    "# Generate and optionally save visualizations\n",
    "plot_and_save(study,plot_param_importances, \"param_importances\")\n",
    "plot_and_save(study,plot_optimization_history, \"optimization_history.png\")\n",
    "plot_and_save(study,plot_parallel_coordinate, \"parallel_coordinates.png\")"
   ]
  },
  {
   "cell_type": "code",
   "execution_count": 6,
   "metadata": {},
   "outputs": [
    {
     "name": "stdout",
     "output_type": "stream",
     "text": [
      "\n",
      "Creating the best model...\n"
     ]
    },
    {
     "ename": "NameError",
     "evalue": "name 'model_trainer' is not defined",
     "output_type": "error",
     "traceback": [
      "\u001b[1;31m---------------------------------------------------------------------------\u001b[0m",
      "\u001b[1;31mNameError\u001b[0m                                 Traceback (most recent call last)",
      "Cell \u001b[1;32mIn[6], line 3\u001b[0m\n\u001b[0;32m      1\u001b[0m \u001b[38;5;28mprint\u001b[39m(\u001b[38;5;124m\"\u001b[39m\u001b[38;5;130;01m\\n\u001b[39;00m\u001b[38;5;124mCreating the best model...\u001b[39m\u001b[38;5;124m\"\u001b[39m)\n\u001b[0;32m      2\u001b[0m start \u001b[38;5;241m=\u001b[39m time\u001b[38;5;241m.\u001b[39mtime()\n\u001b[1;32m----> 3\u001b[0m best_model \u001b[38;5;241m=\u001b[39m model_trainer\u001b[38;5;241m.\u001b[39mcreate_model_architecture(best_params)\n\u001b[0;32m      4\u001b[0m end \u001b[38;5;241m=\u001b[39m time\u001b[38;5;241m.\u001b[39mtime()\n\u001b[0;32m      5\u001b[0m \u001b[38;5;28mprint\u001b[39m(\u001b[38;5;124mf\u001b[39m\u001b[38;5;124m\"\u001b[39m\u001b[38;5;124mBest model created successfully (took \u001b[39m\u001b[38;5;132;01m{\u001b[39;00m(end\u001b[38;5;250m \u001b[39m\u001b[38;5;241m-\u001b[39m\u001b[38;5;250m \u001b[39mstart)\u001b[38;5;250m \u001b[39m\u001b[38;5;241m/\u001b[39m\u001b[38;5;250m \u001b[39m\u001b[38;5;241m60\u001b[39m\u001b[38;5;132;01m:\u001b[39;00m\u001b[38;5;124m.2f\u001b[39m\u001b[38;5;132;01m}\u001b[39;00m\u001b[38;5;124m minutes)\u001b[39m\u001b[38;5;124m\"\u001b[39m)\n",
      "\u001b[1;31mNameError\u001b[0m: name 'model_trainer' is not defined"
     ]
    }
   ],
   "source": [
    "print(\"\\nCreating the best model...\")\n",
    "start = time.time()\n",
    "best_model = model_trainer.create_model_architecture(best_params)\n",
    "end = time.time()\n",
    "print(f\"Best model created successfully (took {(end - start) / 60:.2f} minutes)\")"
   ]
  },
  {
   "cell_type": "code",
   "execution_count": 9,
   "metadata": {},
   "outputs": [
    {
     "name": "stdout",
     "output_type": "stream",
     "text": [
      "\n",
      "Training the best model on full training set...\n",
      "Epoch 1/50\n",
      "45155/45155 [==============================] - 494s 11ms/step - loss: 0.0026 - mae: 0.0249 - root_mean_squared_error: 0.0513 - val_loss: 1.3600e-05 - val_mae: 0.0020 - val_root_mean_squared_error: 0.0037\n",
      "Epoch 2/50\n",
      "45155/45155 [==============================] - 387s 9ms/step - loss: 2.2318e-04 - mae: 0.0105 - root_mean_squared_error: 0.0149 - val_loss: 9.1887e-06 - val_mae: 0.0018 - val_root_mean_squared_error: 0.0030\n",
      "Epoch 3/50\n",
      "45155/45155 [==============================] - 303s 7ms/step - loss: 1.9723e-04 - mae: 0.0097 - root_mean_squared_error: 0.0140 - val_loss: 3.8582e-05 - val_mae: 0.0052 - val_root_mean_squared_error: 0.0062\n",
      "Epoch 4/50\n",
      "45155/45155 [==============================] - 289s 6ms/step - loss: 1.8664e-04 - mae: 0.0094 - root_mean_squared_error: 0.0137 - val_loss: 9.0565e-06 - val_mae: 0.0023 - val_root_mean_squared_error: 0.0030\n",
      "Epoch 5/50\n",
      "45155/45155 [==============================] - 308s 7ms/step - loss: 1.8187e-04 - mae: 0.0093 - root_mean_squared_error: 0.0135 - val_loss: 4.8882e-05 - val_mae: 0.0064 - val_root_mean_squared_error: 0.0070\n",
      "Epoch 6/50\n",
      "45155/45155 [==============================] - 286s 6ms/step - loss: 1.7933e-04 - mae: 0.0092 - root_mean_squared_error: 0.0134 - val_loss: 8.3730e-06 - val_mae: 0.0022 - val_root_mean_squared_error: 0.0029\n",
      "Epoch 7/50\n",
      "45155/45155 [==============================] - 309s 7ms/step - loss: 1.7699e-04 - mae: 0.0091 - root_mean_squared_error: 0.0133 - val_loss: 5.0504e-06 - val_mae: 0.0014 - val_root_mean_squared_error: 0.0022\n",
      "Epoch 8/50\n",
      "45155/45155 [==============================] - 295s 7ms/step - loss: 1.7489e-04 - mae: 0.0091 - root_mean_squared_error: 0.0132 - val_loss: 5.3917e-06 - val_mae: 0.0016 - val_root_mean_squared_error: 0.0023\n",
      "Epoch 9/50\n",
      "45155/45155 [==============================] - 335s 7ms/step - loss: 1.7329e-04 - mae: 0.0090 - root_mean_squared_error: 0.0132 - val_loss: 6.2028e-06 - val_mae: 0.0018 - val_root_mean_squared_error: 0.0025\n",
      "Epoch 10/50\n",
      "45155/45155 [==============================] - 321s 7ms/step - loss: 1.7207e-04 - mae: 0.0090 - root_mean_squared_error: 0.0131 - val_loss: 6.8215e-06 - val_mae: 0.0019 - val_root_mean_squared_error: 0.0026\n",
      "Epoch 11/50\n",
      "45155/45155 [==============================] - 319s 7ms/step - loss: 1.7006e-04 - mae: 0.0089 - root_mean_squared_error: 0.0130 - val_loss: 6.6220e-06 - val_mae: 0.0018 - val_root_mean_squared_error: 0.0026\n",
      "Epoch 12/50\n",
      "45155/45155 [==============================] - 318s 7ms/step - loss: 1.6896e-04 - mae: 0.0089 - root_mean_squared_error: 0.0130 - val_loss: 6.2085e-06 - val_mae: 0.0019 - val_root_mean_squared_error: 0.0025\n",
      "Epoch 13/50\n",
      "45155/45155 [==============================] - 323s 7ms/step - loss: 1.6846e-04 - mae: 0.0089 - root_mean_squared_error: 0.0130 - val_loss: 5.3646e-06 - val_mae: 0.0016 - val_root_mean_squared_error: 0.0023\n",
      "Epoch 14/50\n",
      "45155/45155 [==============================] - 311s 7ms/step - loss: 1.6776e-04 - mae: 0.0089 - root_mean_squared_error: 0.0130 - val_loss: 1.2532e-05 - val_mae: 0.0028 - val_root_mean_squared_error: 0.0035\n",
      "Epoch 15/50\n",
      "45155/45155 [==============================] - 334s 7ms/step - loss: 1.6739e-04 - mae: 0.0088 - root_mean_squared_error: 0.0129 - val_loss: 3.2524e-05 - val_mae: 0.0052 - val_root_mean_squared_error: 0.0057\n",
      "Epoch 16/50\n",
      "45155/45155 [==============================] - 316s 7ms/step - loss: 1.6702e-04 - mae: 0.0088 - root_mean_squared_error: 0.0129 - val_loss: 3.5747e-06 - val_mae: 9.9509e-04 - val_root_mean_squared_error: 0.0019\n",
      "Epoch 17/50\n",
      "45155/45155 [==============================] - 320s 7ms/step - loss: 1.6636e-04 - mae: 0.0088 - root_mean_squared_error: 0.0129 - val_loss: 4.4010e-06 - val_mae: 0.0012 - val_root_mean_squared_error: 0.0021\n",
      "Epoch 18/50\n",
      "45155/45155 [==============================] - 336s 7ms/step - loss: 1.6612e-04 - mae: 0.0088 - root_mean_squared_error: 0.0129 - val_loss: 4.9964e-06 - val_mae: 0.0015 - val_root_mean_squared_error: 0.0022\n",
      "Epoch 19/50\n",
      "45155/45155 [==============================] - 327s 7ms/step - loss: 1.6592e-04 - mae: 0.0088 - root_mean_squared_error: 0.0129 - val_loss: 4.6699e-06 - val_mae: 0.0013 - val_root_mean_squared_error: 0.0022\n",
      "Epoch 20/50\n",
      "45155/45155 [==============================] - 363s 8ms/step - loss: 1.6544e-04 - mae: 0.0088 - root_mean_squared_error: 0.0129 - val_loss: 1.1884e-05 - val_mae: 0.0031 - val_root_mean_squared_error: 0.0034\n",
      "Epoch 21/50\n",
      "45155/45155 [==============================] - 366s 8ms/step - loss: 1.6496e-04 - mae: 0.0088 - root_mean_squared_error: 0.0128 - val_loss: 4.5651e-06 - val_mae: 0.0014 - val_root_mean_squared_error: 0.0021\n",
      "Epoch 22/50\n",
      "45155/45155 [==============================] - 369s 8ms/step - loss: 1.6478e-04 - mae: 0.0087 - root_mean_squared_error: 0.0128 - val_loss: 8.4755e-06 - val_mae: 0.0022 - val_root_mean_squared_error: 0.0029\n",
      "Epoch 23/50\n",
      "45155/45155 [==============================] - 355s 8ms/step - loss: 1.6467e-04 - mae: 0.0087 - root_mean_squared_error: 0.0128 - val_loss: 3.9031e-06 - val_mae: 0.0011 - val_root_mean_squared_error: 0.0020\n",
      "Epoch 24/50\n",
      "45155/45155 [==============================] - 339s 7ms/step - loss: 1.6411e-04 - mae: 0.0087 - root_mean_squared_error: 0.0128 - val_loss: 4.5211e-06 - val_mae: 0.0015 - val_root_mean_squared_error: 0.0021\n",
      "Epoch 25/50\n",
      "45155/45155 [==============================] - 336s 7ms/step - loss: 1.6435e-04 - mae: 0.0087 - root_mean_squared_error: 0.0128 - val_loss: 3.5507e-06 - val_mae: 9.7533e-04 - val_root_mean_squared_error: 0.0019\n",
      "Epoch 26/50\n",
      "45155/45155 [==============================] - 330s 7ms/step - loss: 1.6375e-04 - mae: 0.0087 - root_mean_squared_error: 0.0128 - val_loss: 4.4603e-06 - val_mae: 0.0012 - val_root_mean_squared_error: 0.0021\n",
      "Epoch 27/50\n",
      "45155/45155 [==============================] - 310s 7ms/step - loss: 1.6366e-04 - mae: 0.0087 - root_mean_squared_error: 0.0128 - val_loss: 4.5444e-06 - val_mae: 0.0012 - val_root_mean_squared_error: 0.0021\n",
      "Epoch 28/50\n",
      "45155/45155 [==============================] - 310s 7ms/step - loss: 1.6357e-04 - mae: 0.0087 - root_mean_squared_error: 0.0128 - val_loss: 4.8326e-06 - val_mae: 0.0015 - val_root_mean_squared_error: 0.0022\n",
      "Epoch 29/50\n",
      "45155/45155 [==============================] - 322s 7ms/step - loss: 1.6342e-04 - mae: 0.0087 - root_mean_squared_error: 0.0128 - val_loss: 3.5739e-06 - val_mae: 0.0011 - val_root_mean_squared_error: 0.0019\n",
      "Epoch 30/50\n",
      "45155/45155 [==============================] - 316s 7ms/step - loss: 1.6325e-04 - mae: 0.0087 - root_mean_squared_error: 0.0128 - val_loss: 5.9318e-06 - val_mae: 0.0018 - val_root_mean_squared_error: 0.0024\n",
      "Epoch 31/50\n",
      "45155/45155 [==============================] - 298s 7ms/step - loss: 1.6300e-04 - mae: 0.0087 - root_mean_squared_error: 0.0128 - val_loss: 4.9429e-06 - val_mae: 0.0014 - val_root_mean_squared_error: 0.0022\n",
      "Epoch 32/50\n",
      "45155/45155 [==============================] - 301s 7ms/step - loss: 1.6298e-04 - mae: 0.0087 - root_mean_squared_error: 0.0128 - val_loss: 3.4781e-05 - val_mae: 0.0055 - val_root_mean_squared_error: 0.0059\n",
      "Epoch 33/50\n",
      "45155/45155 [==============================] - 317s 7ms/step - loss: 1.6260e-04 - mae: 0.0086 - root_mean_squared_error: 0.0128 - val_loss: 3.3696e-06 - val_mae: 9.9549e-04 - val_root_mean_squared_error: 0.0018\n",
      "Epoch 34/50\n",
      "45155/45155 [==============================] - 290s 6ms/step - loss: 1.6297e-04 - mae: 0.0087 - root_mean_squared_error: 0.0128 - val_loss: 4.9100e-06 - val_mae: 0.0013 - val_root_mean_squared_error: 0.0022\n",
      "Epoch 35/50\n",
      "45155/45155 [==============================] - 308s 7ms/step - loss: 1.6265e-04 - mae: 0.0086 - root_mean_squared_error: 0.0128 - val_loss: 1.0593e-05 - val_mae: 0.0026 - val_root_mean_squared_error: 0.0033\n",
      "Epoch 36/50\n",
      "45155/45155 [==============================] - 286s 6ms/step - loss: 1.6228e-04 - mae: 0.0086 - root_mean_squared_error: 0.0127 - val_loss: 6.6844e-06 - val_mae: 0.0018 - val_root_mean_squared_error: 0.0026\n",
      "Epoch 37/50\n",
      "45155/45155 [==============================] - 310s 7ms/step - loss: 1.6264e-04 - mae: 0.0086 - root_mean_squared_error: 0.0128 - val_loss: 6.3177e-06 - val_mae: 0.0016 - val_root_mean_squared_error: 0.0025\n",
      "Epoch 38/50\n",
      "45155/45155 [==============================] - 283s 6ms/step - loss: 1.6239e-04 - mae: 0.0086 - root_mean_squared_error: 0.0127 - val_loss: 4.1351e-06 - val_mae: 0.0013 - val_root_mean_squared_error: 0.0020\n",
      "Epoch 39/50\n",
      "45155/45155 [==============================] - 300s 7ms/step - loss: 1.6193e-04 - mae: 0.0086 - root_mean_squared_error: 0.0127 - val_loss: 3.7334e-06 - val_mae: 0.0012 - val_root_mean_squared_error: 0.0019\n",
      "Epoch 40/50\n",
      "45155/45155 [==============================] - 278s 6ms/step - loss: 1.6217e-04 - mae: 0.0086 - root_mean_squared_error: 0.0127 - val_loss: 7.7940e-06 - val_mae: 0.0021 - val_root_mean_squared_error: 0.0028\n",
      "Epoch 41/50\n",
      "45155/45155 [==============================] - 303s 7ms/step - loss: 1.6195e-04 - mae: 0.0086 - root_mean_squared_error: 0.0127 - val_loss: 6.2059e-06 - val_mae: 0.0018 - val_root_mean_squared_error: 0.0025\n",
      "Epoch 42/50\n",
      "45155/45155 [==============================] - 279s 6ms/step - loss: 1.6201e-04 - mae: 0.0086 - root_mean_squared_error: 0.0127 - val_loss: 7.7378e-06 - val_mae: 0.0021 - val_root_mean_squared_error: 0.0028\n",
      "Epoch 43/50\n",
      "45155/45155 [==============================] - 291s 6ms/step - loss: 1.6199e-04 - mae: 0.0086 - root_mean_squared_error: 0.0127 - val_loss: 5.4591e-06 - val_mae: 0.0015 - val_root_mean_squared_error: 0.0023\n",
      "Epoch 44/50\n",
      "45155/45155 [==============================] - 297s 7ms/step - loss: 1.6189e-04 - mae: 0.0086 - root_mean_squared_error: 0.0127 - val_loss: 5.6611e-06 - val_mae: 0.0016 - val_root_mean_squared_error: 0.0024\n",
      "Epoch 45/50\n",
      "45155/45155 [==============================] - 279s 6ms/step - loss: 1.6183e-04 - mae: 0.0086 - root_mean_squared_error: 0.0127 - val_loss: 3.5256e-06 - val_mae: 0.0010 - val_root_mean_squared_error: 0.0019\n",
      "Epoch 46/50\n",
      "45155/45155 [==============================] - 303s 7ms/step - loss: 1.6156e-04 - mae: 0.0086 - root_mean_squared_error: 0.0127 - val_loss: 6.1921e-06 - val_mae: 0.0016 - val_root_mean_squared_error: 0.0025\n",
      "Epoch 47/50\n",
      "45155/45155 [==============================] - 276s 6ms/step - loss: 1.6149e-04 - mae: 0.0086 - root_mean_squared_error: 0.0127 - val_loss: 3.6820e-06 - val_mae: 0.0011 - val_root_mean_squared_error: 0.0019\n",
      "Epoch 48/50\n",
      "45155/45155 [==============================] - 313s 7ms/step - loss: 1.6160e-04 - mae: 0.0086 - root_mean_squared_error: 0.0127 - val_loss: 6.5341e-06 - val_mae: 0.0021 - val_root_mean_squared_error: 0.0026\n",
      "Epoch 49/50\n",
      "45155/45155 [==============================] - 285s 6ms/step - loss: 1.6159e-04 - mae: 0.0086 - root_mean_squared_error: 0.0127 - val_loss: 3.7782e-06 - val_mae: 0.0012 - val_root_mean_squared_error: 0.0019\n",
      "Epoch 50/50\n",
      "45155/45155 [==============================] - 312s 7ms/step - loss: 1.6160e-04 - mae: 0.0086 - root_mean_squared_error: 0.0127 - val_loss: 5.2373e-06 - val_mae: 0.0017 - val_root_mean_squared_error: 0.0023\n",
      "Model trained successfully (took 264.28 minutes)\n"
     ]
    }
   ],
   "source": [
    "print(\"\\nTraining the best model on full training set...\")\n",
    "start = time.time()\n",
    "history = best_model.fit(\n",
    "    model_trainer.X_train, model_trainer.y_train,\n",
    "    validation_split=0.2,\n",
    "    epochs=50,\n",
    "    batch_size=best_params[\"batch_size\"],\n",
    "    verbose=1\n",
    ")\n",
    "end = time.time()\n",
    "print(f\"Model trained successfully (took {(end - start) / 60:.2f} minutes)\")"
   ]
  },
  {
   "cell_type": "code",
   "execution_count": 10,
   "metadata": {},
   "outputs": [
    {
     "name": "stdout",
     "output_type": "stream",
     "text": [
      "\n",
      "Saving the trained model...\n",
      "Trained model saved successfully (took 0.00 minutes)\n"
     ]
    }
   ],
   "source": [
    "print(\"\\nSaving the trained model...\")\n",
    "start = time.time()\n",
    "best_model.save(os.path.join(RESULTS_PATH,'best_model.keras'))  # or \"best_model.h5\"\n",
    "end = time.time()\n",
    "print(f\"Trained model saved successfully (took {(end - start) / 60:.2f} minutes)\")"
   ]
  },
  {
   "cell_type": "code",
   "execution_count": null,
   "metadata": {},
   "outputs": [
    {
     "data": {
      "text/plain": [
       "4.4046666666666665"
      ]
     },
     "execution_count": 11,
     "metadata": {},
     "output_type": "execute_result"
    }
   ],
   "source": [
    "# Make predictions on the test set\n"
   ]
  },
  {
   "cell_type": "code",
   "execution_count": null,
   "metadata": {},
   "outputs": [],
   "source": []
  }
 ],
 "metadata": {
  "kernelspec": {
   "display_name": "Python 3",
   "language": "python",
   "name": "python3"
  },
  "language_info": {
   "codemirror_mode": {
    "name": "ipython",
    "version": 3
   },
   "file_extension": ".py",
   "mimetype": "text/x-python",
   "name": "python",
   "nbconvert_exporter": "python",
   "pygments_lexer": "ipython3",
   "version": "3.11.7"
  }
 },
 "nbformat": 4,
 "nbformat_minor": 2
}
